{
 "cells": [
  {
   "cell_type": "code",
   "execution_count": 176,
   "id": "007bf2d2",
   "metadata": {},
   "outputs": [],
   "source": [
    "import re   #regular expression\n",
    "import pandas as pd"
   ]
  },
  {
   "cell_type": "code",
   "execution_count": 177,
   "id": "07273b1b",
   "metadata": {},
   "outputs": [],
   "source": [
    "f=open(\"WhatsApp Chat with Ananya.txt\",\"r\",encoding=\"utf-8\")"
   ]
  },
  {
   "cell_type": "code",
   "execution_count": 178,
   "id": "bd5fd70a",
   "metadata": {},
   "outputs": [],
   "source": [
    "data=f.read()"
   ]
  },
  {
   "cell_type": "code",
   "execution_count": 179,
   "id": "84b241b6",
   "metadata": {},
   "outputs": [],
   "source": [
    "# creating a patern for regular expression\n",
    "pattern =\"\\d{1,2}/\\d{1,2}/\\d{2,4},\\s\\d{1,2}:\\d{2}\\s\\S{2}\\s-\\s\"  #string of regex"
   ]
  },
  {
   "cell_type": "code",
   "execution_count": 180,
   "id": "d35047b9",
   "metadata": {},
   "outputs": [],
   "source": [
    "message=re.split(pattern,data)[1:] #selecting messages"
   ]
  },
  {
   "cell_type": "code",
   "execution_count": 181,
   "id": "520a2cdd",
   "metadata": {},
   "outputs": [],
   "source": [
    "# selecting dates\n",
    "dates=re.findall(pattern,data)"
   ]
  },
  {
   "cell_type": "code",
   "execution_count": 182,
   "id": "c9e51943",
   "metadata": {},
   "outputs": [],
   "source": [
    "df=pd.DataFrame({\"message\":message,\"date\":dates})"
   ]
  },
  {
   "cell_type": "code",
   "execution_count": 183,
   "id": "15db7161",
   "metadata": {},
   "outputs": [],
   "source": [
    "# date=pd.to_datetime(dates,format=\" %m/%d/%y, %I:%M %p - \")"
   ]
  },
  {
   "cell_type": "code",
   "execution_count": 184,
   "id": "41aeb6ea",
   "metadata": {},
   "outputs": [],
   "source": [
    "# separate user and message\n",
    "user=[]\n",
    "message=[]\n",
    "for mess in df[\"message\"]:\n",
    "    data=re.split('([\\w\\W]+?):\\s',mess)\n",
    "    if data[1]:\n",
    "        user.append(data[1])\n",
    "        message.append(data[2])\n",
    "    else:\n",
    "        user.append(\"group_notification\")\n",
    "        message.append(data[0])\n",
    "df[\"message\"]=message\n",
    "df[\"user\"]=user\n"
   ]
  },
  {
   "cell_type": "code",
   "execution_count": 185,
   "id": "f3530b01",
   "metadata": {},
   "outputs": [],
   "source": [
    "year=[]\n",
    "for i in df['date']:\n",
    "    if i[1]=='/':\n",
    "        if i[3]=='/':\n",
    "            year.append('20'+i[4:6])\n",
    "        else:\n",
    "            year.append('20'+i[5:7])\n",
    "    else:\n",
    "        if i[4]=='/'and i[2]=='/':\n",
    "            year.append('20'+i[5:7])\n",
    "        else:\n",
    "            year.append('20'+i[6:8])\n",
    "df['year']=year"
   ]
  },
  {
   "cell_type": "code",
   "execution_count": 186,
   "id": "8cb505c7",
   "metadata": {},
   "outputs": [],
   "source": [
    "month=[]\n",
    "for i in df['date']:\n",
    "    if i[2]=='/':\n",
    "        month.append(i[0:2])\n",
    "    else:\n",
    "        month.append(i[0:1])\n",
    "df['month']=month"
   ]
  },
  {
   "cell_type": "code",
   "execution_count": 187,
   "id": "d6caca00",
   "metadata": {},
   "outputs": [],
   "source": [
    "hours=[]\n",
    "minutes=[]\n",
    "unit=[]\n",
    "for i in df['date']:\n",
    "        hours.append(i[-11:-9])\n",
    "        minutes.append(i[-8:-6])\n",
    "        unit.append(i[-5:-3])\n",
    "df[\"hours\"]=hours\n",
    "df[\"minutes\"]=minutes\n",
    "df[\"unit\"]=unit"
   ]
  },
  {
   "cell_type": "code",
   "execution_count": 188,
   "id": "5d71420d",
   "metadata": {},
   "outputs": [],
   "source": [
    "date=[]\n",
    "for i in df['date']:\n",
    "    if i[2]=='/':\n",
    "        if i[5]=='/':\n",
    "            date.append(i[3:5])\n",
    "        else:\n",
    "            date.append(i[3:4])\n",
    "    else:\n",
    "        if i[4]=='/':\n",
    "            date.append(i[2:4])\n",
    "        else:\n",
    "            date.append(i[2:3])\n",
    "df['date']=date"
   ]
  },
  {
   "cell_type": "code",
   "execution_count": 189,
   "id": "a179b464",
   "metadata": {},
   "outputs": [
    {
     "data": {
      "text/html": [
       "<div>\n",
       "<style scoped>\n",
       "    .dataframe tbody tr th:only-of-type {\n",
       "        vertical-align: middle;\n",
       "    }\n",
       "\n",
       "    .dataframe tbody tr th {\n",
       "        vertical-align: top;\n",
       "    }\n",
       "\n",
       "    .dataframe thead th {\n",
       "        text-align: right;\n",
       "    }\n",
       "</style>\n",
       "<table border=\"1\" class=\"dataframe\">\n",
       "  <thead>\n",
       "    <tr style=\"text-align: right;\">\n",
       "      <th></th>\n",
       "      <th>message</th>\n",
       "      <th>date</th>\n",
       "      <th>user</th>\n",
       "      <th>year</th>\n",
       "      <th>month</th>\n",
       "      <th>hours</th>\n",
       "      <th>minutes</th>\n",
       "      <th>unit</th>\n",
       "    </tr>\n",
       "  </thead>\n",
       "  <tbody>\n",
       "    <tr>\n",
       "      <th>0</th>\n",
       "      <td>Online dena h ?\\n</td>\n",
       "      <td>15</td>\n",
       "      <td>Ananya</td>\n",
       "      <td>2022</td>\n",
       "      <td>12</td>\n",
       "      <td>5</td>\n",
       "      <td>50</td>\n",
       "      <td>PM</td>\n",
       "    </tr>\n",
       "    <tr>\n",
       "      <th>1</th>\n",
       "      <td>Vhi 😑\\n</td>\n",
       "      <td>15</td>\n",
       "      <td>A.K Soni</td>\n",
       "      <td>2022</td>\n",
       "      <td>12</td>\n",
       "      <td>5</td>\n",
       "      <td>50</td>\n",
       "      <td>PM</td>\n",
       "    </tr>\n",
       "    <tr>\n",
       "      <th>2</th>\n",
       "      <td>Ha\\n</td>\n",
       "      <td>15</td>\n",
       "      <td>A.K Soni</td>\n",
       "      <td>2022</td>\n",
       "      <td>12</td>\n",
       "      <td>5</td>\n",
       "      <td>50</td>\n",
       "      <td>PM</td>\n",
       "    </tr>\n",
       "    <tr>\n",
       "      <th>3</th>\n",
       "      <td>😁\\n</td>\n",
       "      <td>15</td>\n",
       "      <td>A.K Soni</td>\n",
       "      <td>2022</td>\n",
       "      <td>12</td>\n",
       "      <td>5</td>\n",
       "      <td>50</td>\n",
       "      <td>PM</td>\n",
       "    </tr>\n",
       "    <tr>\n",
       "      <th>4</th>\n",
       "      <td>😁\\n</td>\n",
       "      <td>15</td>\n",
       "      <td>Ananya</td>\n",
       "      <td>2022</td>\n",
       "      <td>12</td>\n",
       "      <td>5</td>\n",
       "      <td>50</td>\n",
       "      <td>PM</td>\n",
       "    </tr>\n",
       "  </tbody>\n",
       "</table>\n",
       "</div>"
      ],
      "text/plain": [
       "             message date      user  year month hours minutes unit\n",
       "0  Online dena h ?\\n   15    Ananya  2022    12     5      50   PM\n",
       "1            Vhi 😑\\n   15  A.K Soni  2022    12     5      50   PM\n",
       "2               Ha\\n   15  A.K Soni  2022    12     5      50   PM\n",
       "3                😁\\n   15  A.K Soni  2022    12     5      50   PM\n",
       "4                😁\\n   15    Ananya  2022    12     5      50   PM"
      ]
     },
     "execution_count": 189,
     "metadata": {},
     "output_type": "execute_result"
    }
   ],
   "source": [
    "df.head()"
   ]
  },
  {
   "cell_type": "code",
   "execution_count": null,
   "id": "aa686f8e",
   "metadata": {},
   "outputs": [],
   "source": []
  }
 ],
 "metadata": {
  "kernelspec": {
   "display_name": "Python 3 (ipykernel)",
   "language": "python",
   "name": "python3"
  },
  "language_info": {
   "codemirror_mode": {
    "name": "ipython",
    "version": 3
   },
   "file_extension": ".py",
   "mimetype": "text/x-python",
   "name": "python",
   "nbconvert_exporter": "python",
   "pygments_lexer": "ipython3",
   "version": "3.9.13"
  }
 },
 "nbformat": 4,
 "nbformat_minor": 5
}
